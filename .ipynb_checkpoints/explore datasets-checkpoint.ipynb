{
 "cells": [
  {
   "cell_type": "code",
   "execution_count": 16,
   "id": "d40bb5a5-5a77-42a4-b864-97ac06ff8b00",
   "metadata": {},
   "outputs": [],
   "source": [
    "import pandas as pd\n",
    "import numpy as np\n",
    "import networkx as nx\n",
    "from tqdm import tqdm\n",
    "from torch_geometric.data import Data"
   ]
  },
  {
   "cell_type": "code",
   "execution_count": 2,
   "id": "85a6d9b5-fa1e-487b-b40a-63bcc5c82f16",
   "metadata": {},
   "outputs": [],
   "source": [
    "data = pd.read_csv('data/ALLFLOWMETER_HIKARI2022.csv', index_col=0)"
   ]
  },
  {
   "cell_type": "code",
   "execution_count": 9,
   "id": "4553a185-d683-414f-932c-ae156a110b73",
   "metadata": {},
   "outputs": [
    {
     "data": {
      "text/html": [
       "<div>\n",
       "<style scoped>\n",
       "    .dataframe tbody tr th:only-of-type {\n",
       "        vertical-align: middle;\n",
       "    }\n",
       "\n",
       "    .dataframe tbody tr th {\n",
       "        vertical-align: top;\n",
       "    }\n",
       "\n",
       "    .dataframe thead th {\n",
       "        text-align: right;\n",
       "    }\n",
       "</style>\n",
       "<table border=\"1\" class=\"dataframe\">\n",
       "  <thead>\n",
       "    <tr style=\"text-align: right;\">\n",
       "      <th></th>\n",
       "      <th>uid</th>\n",
       "      <th>originh</th>\n",
       "      <th>originp</th>\n",
       "      <th>responh</th>\n",
       "      <th>responp</th>\n",
       "      <th>flow_duration</th>\n",
       "      <th>fwd_pkts_tot</th>\n",
       "      <th>bwd_pkts_tot</th>\n",
       "      <th>fwd_data_pkts_tot</th>\n",
       "      <th>bwd_data_pkts_tot</th>\n",
       "      <th>...</th>\n",
       "      <th>idle.max</th>\n",
       "      <th>idle.tot</th>\n",
       "      <th>idle.avg</th>\n",
       "      <th>idle.std</th>\n",
       "      <th>fwd_init_window_size</th>\n",
       "      <th>bwd_init_window_size</th>\n",
       "      <th>fwd_last_window_size</th>\n",
       "      <th>bwd_last_window_size</th>\n",
       "      <th>attack_category</th>\n",
       "      <th>Label</th>\n",
       "    </tr>\n",
       "  </thead>\n",
       "  <tbody>\n",
       "    <tr>\n",
       "      <th>0</th>\n",
       "      <td>Cmu9v81jToQyRF1gbk</td>\n",
       "      <td>184.0.48.168</td>\n",
       "      <td>38164</td>\n",
       "      <td>184.0.48.150</td>\n",
       "      <td>50443</td>\n",
       "      <td>0 days 00:00:00.000060</td>\n",
       "      <td>1</td>\n",
       "      <td>1</td>\n",
       "      <td>0</td>\n",
       "      <td>0</td>\n",
       "      <td>...</td>\n",
       "      <td>0.000000e+00</td>\n",
       "      <td>0.000000e+00</td>\n",
       "      <td>0.000000e+00</td>\n",
       "      <td>0.000000</td>\n",
       "      <td>64240</td>\n",
       "      <td>0</td>\n",
       "      <td>64240</td>\n",
       "      <td>0</td>\n",
       "      <td>Benign</td>\n",
       "      <td>0</td>\n",
       "    </tr>\n",
       "    <tr>\n",
       "      <th>1</th>\n",
       "      <td>CO21hl3TWkuXTOgajk</td>\n",
       "      <td>184.0.48.169</td>\n",
       "      <td>43068</td>\n",
       "      <td>184.0.48.150</td>\n",
       "      <td>50443</td>\n",
       "      <td>0 days 00:00:00.000083</td>\n",
       "      <td>1</td>\n",
       "      <td>1</td>\n",
       "      <td>0</td>\n",
       "      <td>0</td>\n",
       "      <td>...</td>\n",
       "      <td>0.000000e+00</td>\n",
       "      <td>0.000000e+00</td>\n",
       "      <td>0.000000e+00</td>\n",
       "      <td>0.000000</td>\n",
       "      <td>64240</td>\n",
       "      <td>0</td>\n",
       "      <td>64240</td>\n",
       "      <td>0</td>\n",
       "      <td>Benign</td>\n",
       "      <td>0</td>\n",
       "    </tr>\n",
       "    <tr>\n",
       "      <th>2</th>\n",
       "      <td>CBLJ6L19FP0MfYX7Oh</td>\n",
       "      <td>184.0.48.124</td>\n",
       "      <td>5678</td>\n",
       "      <td>255.255.255.255</td>\n",
       "      <td>5678</td>\n",
       "      <td>0 days 00:01:59.996602</td>\n",
       "      <td>3</td>\n",
       "      <td>0</td>\n",
       "      <td>3</td>\n",
       "      <td>0</td>\n",
       "      <td>...</td>\n",
       "      <td>5.999912e+07</td>\n",
       "      <td>1.199966e+08</td>\n",
       "      <td>5.999830e+07</td>\n",
       "      <td>1156.846698</td>\n",
       "      <td>0</td>\n",
       "      <td>0</td>\n",
       "      <td>0</td>\n",
       "      <td>0</td>\n",
       "      <td>Benign</td>\n",
       "      <td>0</td>\n",
       "    </tr>\n",
       "    <tr>\n",
       "      <th>3</th>\n",
       "      <td>ChTG451zJ7hUYOcqje</td>\n",
       "      <td>184.0.48.124</td>\n",
       "      <td>5678</td>\n",
       "      <td>255.255.255.255</td>\n",
       "      <td>5678</td>\n",
       "      <td>0 days 00:00:59.996909</td>\n",
       "      <td>2</td>\n",
       "      <td>0</td>\n",
       "      <td>2</td>\n",
       "      <td>0</td>\n",
       "      <td>...</td>\n",
       "      <td>5.999691e+07</td>\n",
       "      <td>5.999691e+07</td>\n",
       "      <td>5.999691e+07</td>\n",
       "      <td>0.000000</td>\n",
       "      <td>0</td>\n",
       "      <td>0</td>\n",
       "      <td>0</td>\n",
       "      <td>0</td>\n",
       "      <td>Benign</td>\n",
       "      <td>0</td>\n",
       "    </tr>\n",
       "    <tr>\n",
       "      <th>4</th>\n",
       "      <td>Cn9y6E2KVxzQbs5wjc</td>\n",
       "      <td>184.0.48.124</td>\n",
       "      <td>5678</td>\n",
       "      <td>255.255.255.255</td>\n",
       "      <td>5678</td>\n",
       "      <td>0 days 00:00:59.992130</td>\n",
       "      <td>2</td>\n",
       "      <td>0</td>\n",
       "      <td>2</td>\n",
       "      <td>0</td>\n",
       "      <td>...</td>\n",
       "      <td>5.999213e+07</td>\n",
       "      <td>5.999213e+07</td>\n",
       "      <td>5.999213e+07</td>\n",
       "      <td>0.000000</td>\n",
       "      <td>0</td>\n",
       "      <td>0</td>\n",
       "      <td>0</td>\n",
       "      <td>0</td>\n",
       "      <td>Benign</td>\n",
       "      <td>0</td>\n",
       "    </tr>\n",
       "  </tbody>\n",
       "</table>\n",
       "<p>5 rows × 87 columns</p>\n",
       "</div>"
      ],
      "text/plain": [
       "                  uid       originh  originp          responh  responp  \\\n",
       "0  Cmu9v81jToQyRF1gbk  184.0.48.168    38164     184.0.48.150    50443   \n",
       "1  CO21hl3TWkuXTOgajk  184.0.48.169    43068     184.0.48.150    50443   \n",
       "2  CBLJ6L19FP0MfYX7Oh  184.0.48.124     5678  255.255.255.255     5678   \n",
       "3  ChTG451zJ7hUYOcqje  184.0.48.124     5678  255.255.255.255     5678   \n",
       "4  Cn9y6E2KVxzQbs5wjc  184.0.48.124     5678  255.255.255.255     5678   \n",
       "\n",
       "            flow_duration  fwd_pkts_tot  bwd_pkts_tot  fwd_data_pkts_tot  \\\n",
       "0  0 days 00:00:00.000060             1             1                  0   \n",
       "1  0 days 00:00:00.000083             1             1                  0   \n",
       "2  0 days 00:01:59.996602             3             0                  3   \n",
       "3  0 days 00:00:59.996909             2             0                  2   \n",
       "4  0 days 00:00:59.992130             2             0                  2   \n",
       "\n",
       "   bwd_data_pkts_tot  ...      idle.max      idle.tot      idle.avg  \\\n",
       "0                  0  ...  0.000000e+00  0.000000e+00  0.000000e+00   \n",
       "1                  0  ...  0.000000e+00  0.000000e+00  0.000000e+00   \n",
       "2                  0  ...  5.999912e+07  1.199966e+08  5.999830e+07   \n",
       "3                  0  ...  5.999691e+07  5.999691e+07  5.999691e+07   \n",
       "4                  0  ...  5.999213e+07  5.999213e+07  5.999213e+07   \n",
       "\n",
       "      idle.std  fwd_init_window_size  bwd_init_window_size  \\\n",
       "0     0.000000                 64240                     0   \n",
       "1     0.000000                 64240                     0   \n",
       "2  1156.846698                     0                     0   \n",
       "3     0.000000                     0                     0   \n",
       "4     0.000000                     0                     0   \n",
       "\n",
       "   fwd_last_window_size  bwd_last_window_size  attack_category  Label  \n",
       "0                 64240                     0           Benign      0  \n",
       "1                 64240                     0           Benign      0  \n",
       "2                     0                     0           Benign      0  \n",
       "3                     0                     0           Benign      0  \n",
       "4                     0                     0           Benign      0  \n",
       "\n",
       "[5 rows x 87 columns]"
      ]
     },
     "execution_count": 9,
     "metadata": {},
     "output_type": "execute_result"
    }
   ],
   "source": [
    "data.head()"
   ]
  },
  {
   "cell_type": "code",
   "execution_count": 3,
   "id": "9dce7082-5318-48cd-8a4b-f32774018ac3",
   "metadata": {},
   "outputs": [
    {
     "data": {
      "text/plain": [
       "Index(['uid', 'originh', 'originp', 'responh', 'responp', 'flow_duration',\n",
       "       'fwd_pkts_tot', 'bwd_pkts_tot', 'fwd_data_pkts_tot',\n",
       "       'bwd_data_pkts_tot', 'fwd_pkts_per_sec', 'bwd_pkts_per_sec',\n",
       "       'flow_pkts_per_sec', 'down_up_ratio', 'fwd_header_size_tot',\n",
       "       'fwd_header_size_min', 'fwd_header_size_max', 'bwd_header_size_tot',\n",
       "       'bwd_header_size_min', 'bwd_header_size_max', 'flow_FIN_flag_count',\n",
       "       'flow_SYN_flag_count', 'flow_RST_flag_count', 'fwd_PSH_flag_count',\n",
       "       'bwd_PSH_flag_count', 'flow_ACK_flag_count', 'fwd_URG_flag_count',\n",
       "       'bwd_URG_flag_count', 'flow_CWR_flag_count', 'flow_ECE_flag_count',\n",
       "       'fwd_pkts_payload.min', 'fwd_pkts_payload.max', 'fwd_pkts_payload.tot',\n",
       "       'fwd_pkts_payload.avg', 'fwd_pkts_payload.std', 'bwd_pkts_payload.min',\n",
       "       'bwd_pkts_payload.max', 'bwd_pkts_payload.tot', 'bwd_pkts_payload.avg',\n",
       "       'bwd_pkts_payload.std', 'flow_pkts_payload.min',\n",
       "       'flow_pkts_payload.max', 'flow_pkts_payload.tot',\n",
       "       'flow_pkts_payload.avg', 'flow_pkts_payload.std', 'fwd_iat.min',\n",
       "       'fwd_iat.max', 'fwd_iat.tot', 'fwd_iat.avg', 'fwd_iat.std',\n",
       "       'bwd_iat.min', 'bwd_iat.max', 'bwd_iat.tot', 'bwd_iat.avg',\n",
       "       'bwd_iat.std', 'flow_iat.min', 'flow_iat.max', 'flow_iat.tot',\n",
       "       'flow_iat.avg', 'flow_iat.std', 'payload_bytes_per_second',\n",
       "       'fwd_subflow_pkts', 'bwd_subflow_pkts', 'fwd_subflow_bytes',\n",
       "       'bwd_subflow_bytes', 'fwd_bulk_bytes', 'bwd_bulk_bytes',\n",
       "       'fwd_bulk_packets', 'bwd_bulk_packets', 'fwd_bulk_rate',\n",
       "       'bwd_bulk_rate', 'active.min', 'active.max', 'active.tot', 'active.avg',\n",
       "       'active.std', 'idle.min', 'idle.max', 'idle.tot', 'idle.avg',\n",
       "       'idle.std', 'fwd_init_window_size', 'bwd_init_window_size',\n",
       "       'fwd_last_window_size', 'bwd_last_window_size', 'attack_category',\n",
       "       'Label'],\n",
       "      dtype='object')"
      ]
     },
     "execution_count": 3,
     "metadata": {},
     "output_type": "execute_result"
    }
   ],
   "source": [
    "data.columns"
   ]
  },
  {
   "cell_type": "code",
   "execution_count": 4,
   "id": "af805446-8281-4fdf-af3c-79157c1ec0db",
   "metadata": {},
   "outputs": [],
   "source": [
    "features = ['flow_duration',\n",
    "       'fwd_pkts_tot', 'bwd_pkts_tot', 'fwd_data_pkts_tot',\n",
    "       'bwd_data_pkts_tot', 'fwd_pkts_per_sec', 'bwd_pkts_per_sec',\n",
    "       'flow_pkts_per_sec', 'down_up_ratio', 'fwd_header_size_tot',\n",
    "       'fwd_header_size_min', 'fwd_header_size_max', 'bwd_header_size_tot',\n",
    "       'bwd_header_size_min', 'bwd_header_size_max', 'flow_FIN_flag_count',\n",
    "       'flow_SYN_flag_count', 'flow_RST_flag_count', 'fwd_PSH_flag_count',\n",
    "       'bwd_PSH_flag_count', 'flow_ACK_flag_count', 'fwd_URG_flag_count',\n",
    "       'bwd_URG_flag_count', 'flow_CWR_flag_count', 'flow_ECE_flag_count',\n",
    "       'fwd_pkts_payload.min', 'fwd_pkts_payload.max', 'fwd_pkts_payload.tot',\n",
    "       'fwd_pkts_payload.avg', 'fwd_pkts_payload.std', 'bwd_pkts_payload.min',\n",
    "       'bwd_pkts_payload.max', 'bwd_pkts_payload.tot', 'bwd_pkts_payload.avg',\n",
    "       'bwd_pkts_payload.std', 'flow_pkts_payload.min',\n",
    "       'flow_pkts_payload.max', 'flow_pkts_payload.tot',\n",
    "       'flow_pkts_payload.avg', 'flow_pkts_payload.std', 'fwd_iat.min',\n",
    "       'fwd_iat.max', 'fwd_iat.tot', 'fwd_iat.avg', 'fwd_iat.std',\n",
    "       'bwd_iat.min', 'bwd_iat.max', 'bwd_iat.tot', 'bwd_iat.avg',\n",
    "       'bwd_iat.std', 'flow_iat.min', 'flow_iat.max', 'flow_iat.tot',\n",
    "       'flow_iat.avg', 'flow_iat.std', 'payload_bytes_per_second',\n",
    "       'fwd_subflow_pkts', 'bwd_subflow_pkts', 'fwd_subflow_bytes',\n",
    "       'bwd_subflow_bytes', 'fwd_bulk_bytes', 'bwd_bulk_bytes',\n",
    "       'fwd_bulk_packets', 'bwd_bulk_packets', 'fwd_bulk_rate',\n",
    "       'bwd_bulk_rate', 'active.min', 'active.max', 'active.tot', 'active.avg',\n",
    "       'active.std', 'idle.min', 'idle.max', 'idle.tot', 'idle.avg',\n",
    "       'idle.std', 'fwd_init_window_size', 'bwd_init_window_size',\n",
    "       'fwd_last_window_size', 'bwd_last_window_size']"
   ]
  },
  {
   "cell_type": "code",
   "execution_count": 5,
   "id": "d21f53d2-d135-40bd-81a6-a9cbd24adc04",
   "metadata": {},
   "outputs": [
    {
     "data": {
      "text/plain": [
       "80"
      ]
     },
     "execution_count": 5,
     "metadata": {},
     "output_type": "execute_result"
    }
   ],
   "source": [
    "len(features)"
   ]
  },
  {
   "cell_type": "code",
   "execution_count": 6,
   "id": "f015e750-aafc-4949-a3ac-54097fdef20c",
   "metadata": {},
   "outputs": [],
   "source": [
    "unique_originh = list(set(data['originh']))\n",
    "unique_responh = list(set(data['responh']))\n",
    "unique_all = list(set(unique_originh + unique_responh))"
   ]
  },
  {
   "cell_type": "code",
   "execution_count": 12,
   "id": "7b9f364d-75cd-4a97-a82f-add2ffac5fd1",
   "metadata": {},
   "outputs": [],
   "source": [
    "node_ip_to_id = {}\n",
    "for i, ip in enumerate(unique_all):\n",
    "    node_ip_to_id[ip] = i\n"
   ]
  },
  {
   "cell_type": "code",
   "execution_count": 17,
   "id": "a23fced4-9b49-4bf6-ab8e-790c6449776a",
   "metadata": {
    "tags": []
   },
   "outputs": [],
   "source": [
    "# sources = [node_ip_to_id[x] for x in data['originh'].values]\n",
    "# targets = [node_ip_to_id[x] for x in data['responh'].values]\n",
    "# G.add_edges_from([(s, t) for s, t in zip(sources, targets)])"
   ]
  },
  {
   "cell_type": "code",
   "execution_count": 7,
   "id": "819fa21c-13fa-4a55-a918-4089b5197de7",
   "metadata": {},
   "outputs": [],
   "source": [
    "G = nx.Graph()"
   ]
  },
  {
   "cell_type": "code",
   "execution_count": 8,
   "id": "c2df3a86-7210-45d7-91ee-a9ef4aa40553",
   "metadata": {},
   "outputs": [
    {
     "name": "stderr",
     "output_type": "stream",
     "text": [
      "100%|████████████████████████████████████████████████████████████████████████| 228253/228253 [00:11<00:00, 19512.07it/s]\n"
     ]
    }
   ],
   "source": [
    "for i, row in tqdm(data.iterrows(), total=len(data)):\n",
    "    G.add_edge(row['originh'], row['responh'])"
   ]
  },
  {
   "cell_type": "code",
   "execution_count": 9,
   "id": "94dae238-2848-43f4-a61a-a190cd2590f7",
   "metadata": {},
   "outputs": [],
   "source": [
    "sample_node = np.random.choice(unique_originh, 1)[0]"
   ]
  },
  {
   "cell_type": "code",
   "execution_count": 21,
   "id": "9bed1943-3d8d-42da-ac78-5cf0a0f77b30",
   "metadata": {},
   "outputs": [
    {
     "data": {
      "text/plain": [
       "'36.72.215.210'"
      ]
     },
     "execution_count": 21,
     "metadata": {},
     "output_type": "execute_result"
    }
   ],
   "source": [
    "sample_node"
   ]
  },
  {
   "cell_type": "code",
   "execution_count": 27,
   "id": "52f99ecb-22f0-4563-84ec-6f898a7ec621",
   "metadata": {},
   "outputs": [
    {
     "data": {
      "text/plain": [
       "1191"
      ]
     },
     "execution_count": 27,
     "metadata": {},
     "output_type": "execute_result"
    }
   ],
   "source": [
    "node_ip_to_id[sample_node]"
   ]
  },
  {
   "cell_type": "code",
   "execution_count": 10,
   "id": "7c0ce29d-07a7-4acf-bdd4-1e1e27d5f1b2",
   "metadata": {},
   "outputs": [],
   "source": [
    "hop = 5\n",
    "nodes = [sample_node]\n",
    "frontier = [sample_node]\n",
    "visited = [sample_node]\n",
    "for h in range(hop):\n",
    "    new_frontier = []\n",
    "    for f in frontier:\n",
    "        neighbours = [x for x in list(G.adj[f]) if x not in visited][:5]\n",
    "        if len(neighbours) == 0:\n",
    "            continue\n",
    "        nodes += neighbours\n",
    "        new_frontier += neighbours\n",
    "        visited.append(f)\n",
    "    frontier = new_frontier\n",
    "        "
   ]
  },
  {
   "cell_type": "code",
   "execution_count": 11,
   "id": "970fe2b0-159a-4828-8d9c-0d960d59edbb",
   "metadata": {},
   "outputs": [
    {
     "data": {
      "text/plain": [
       "['36.72.215.210',\n",
       " '184.0.48.169',\n",
       " '184.0.48.150',\n",
       " '140.213.164.207',\n",
       " '103.247.15.246',\n",
       " '119.2.52.53',\n",
       " '182.2.40.15',\n",
       " '184.0.48.168',\n",
       " '184.0.48.53',\n",
       " '184.0.48.171',\n",
       " '184.0.48.27',\n",
       " '184.0.48.23',\n",
       " '172.17.0.2',\n",
       " '172.18.0.6',\n",
       " '185.199.108.133',\n",
       " '185.199.110.133',\n",
       " '185.199.109.133']"
      ]
     },
     "execution_count": 11,
     "metadata": {},
     "output_type": "execute_result"
    }
   ],
   "source": [
    "nodes"
   ]
  },
  {
   "cell_type": "code",
   "execution_count": 12,
   "id": "9eb0e5d7-7550-4485-bb7c-282be8c721f9",
   "metadata": {
    "tags": []
   },
   "outputs": [
    {
     "data": {
      "text/plain": [
       "EdgeView([('184.0.48.53', '184.0.48.150'), ('36.72.215.210', '184.0.48.169'), ('184.0.48.150', '184.0.48.168'), ('184.0.48.150', '184.0.48.169'), ('184.0.48.150', '184.0.48.171'), ('184.0.48.150', '184.0.48.27'), ('184.0.48.150', '184.0.48.23'), ('184.0.48.150', '185.199.108.133'), ('184.0.48.150', '185.199.110.133'), ('184.0.48.150', '185.199.109.133'), ('185.199.109.133', '172.17.0.2'), ('184.0.48.168', '172.17.0.2'), ('184.0.48.168', '184.0.48.169'), ('103.247.15.246', '184.0.48.169'), ('140.213.164.207', '184.0.48.169'), ('182.2.40.15', '184.0.48.169'), ('119.2.52.53', '184.0.48.169'), ('184.0.48.169', '184.0.48.171'), ('172.18.0.6', '184.0.48.171'), ('185.199.108.133', '172.17.0.2'), ('185.199.110.133', '172.17.0.2')])"
      ]
     },
     "execution_count": 12,
     "metadata": {},
     "output_type": "execute_result"
    }
   ],
   "source": [
    "G.subgraph(nodes).edges"
   ]
  },
  {
   "cell_type": "code",
   "execution_count": 13,
   "id": "062343f8-eb1e-4fce-8777-bbacdce95e9d",
   "metadata": {},
   "outputs": [],
   "source": [
    "subgraph = G.subgraph(nodes)"
   ]
  },
  {
   "cell_type": "code",
   "execution_count": 15,
   "id": "7ad39e90-b6a4-46c7-b574-bc3874909727",
   "metadata": {},
   "outputs": [
    {
     "data": {
      "text/plain": [
       "NodeView(('184.0.48.53', '36.72.215.210', '184.0.48.150', '185.199.109.133', '184.0.48.168', '184.0.48.23', '103.247.15.246', '140.213.164.207', '182.2.40.15', '184.0.48.27', '119.2.52.53', '184.0.48.169', '172.18.0.6', '185.199.108.133', '185.199.110.133', '184.0.48.171', '172.17.0.2'))"
      ]
     },
     "execution_count": 15,
     "metadata": {},
     "output_type": "execute_result"
    }
   ],
   "source": [
    "subgraph.nodes"
   ]
  },
  {
   "cell_type": "code",
   "execution_count": 54,
   "id": "10dcd9c5-b516-4dbc-b2bc-834aa926e0e7",
   "metadata": {},
   "outputs": [],
   "source": [
    "for s, t in subgraph.edges:\n",
    "    temp_df = data[(data['originh'] == s) & (data['responh'] ==t)]\n",
    "    temp_features = temp_df[features]\n",
    "    if 'flow_duration' in features:\n",
    "        temp_features['flow_duration'] = temp_features['flow_duration'].apply(lambda x: flow_duration_to_float(x))\n",
    "    # pandas.DataFrame.sample\n",
    "    break"
   ]
  },
  {
   "cell_type": "code",
   "execution_count": 28,
   "id": "33700034-a1da-4ab2-82d7-a9929274ab22",
   "metadata": {},
   "outputs": [
    {
     "data": {
      "text/plain": [
       "array(['Benign', 'Bruteforce', 'Bruteforce-XML', 'XMRIGCC CryptoMiner'],\n",
       "      dtype=object)"
      ]
     },
     "execution_count": 28,
     "metadata": {},
     "output_type": "execute_result"
    }
   ],
   "source": [
    "np.unique(data['attack_category'])"
   ]
  },
  {
   "cell_type": "code",
   "execution_count": 33,
   "id": "6cf46874-f53d-4509-8fc1-48f905e853d9",
   "metadata": {},
   "outputs": [
    {
     "data": {
      "text/plain": [
       "Benign                 214904\n",
       "XMRIGCC CryptoMiner      7595\n",
       "Bruteforce-XML           3650\n",
       "Bruteforce               2104\n",
       "Name: attack_category, dtype: int64"
      ]
     },
     "execution_count": 33,
     "metadata": {},
     "output_type": "execute_result"
    }
   ],
   "source": [
    "data.attack_category.value_counts()"
   ]
  },
  {
   "cell_type": "code",
   "execution_count": 44,
   "id": "b094a451-a9d5-40a0-9eec-b954f6d38282",
   "metadata": {},
   "outputs": [
    {
     "data": {
      "text/plain": [
       "6.1e-05"
      ]
     },
     "execution_count": 44,
     "metadata": {},
     "output_type": "execute_result"
    }
   ],
   "source": [
    "temp_df[features].iloc[0]['flow_duration']"
   ]
  },
  {
   "cell_type": "code",
   "execution_count": 45,
   "id": "66a8b70a-3d7b-428b-9e22-c2a2b7ccddc2",
   "metadata": {},
   "outputs": [],
   "source": [
    "def flow_duration_to_float(flow):\n",
    "    days = float(flow.split('days', 1)[0].strip())\n",
    "    hh = days * 24\n",
    "    remain = flow.split('days', 1)[1]\n",
    "    hh += float(remain.split(':', 1)[0].strip())\n",
    "    mm = hh * 60\n",
    "    remain = remain.split(':', 1)[1]\n",
    "    mm += float(remain.split(':', 1)[0].strip())\n",
    "    remain = remain.split(':', 1)[1]\n",
    "    ss = mm * 60\n",
    "    ss += float(remain)\n",
    "    return ss"
   ]
  },
  {
   "cell_type": "code",
   "execution_count": 56,
   "id": "fbc2d3a9-2290-4ed3-a8de-f87050dc4111",
   "metadata": {},
   "outputs": [
    {
     "name": "stderr",
     "output_type": "stream",
     "text": [
      "/tmp/ipykernel_390/182727174.py:1: SettingWithCopyWarning: \n",
      "A value is trying to be set on a copy of a slice from a DataFrame.\n",
      "Try using .loc[row_indexer,col_indexer] = value instead\n",
      "\n",
      "See the caveats in the documentation: https://pandas.pydata.org/pandas-docs/stable/user_guide/indexing.html#returning-a-view-versus-a-copy\n",
      "  temp_features['flow_duration'] = temp_features['flow_duration'].apply(lambda x: flow_duration_to_float(x))\n"
     ]
    }
   ],
   "source": [
    "temp_features['flow_duration'] = temp_features['flow_duration'].apply(lambda x: flow_duration_to_float(x))"
   ]
  }
 ],
 "metadata": {
  "kernelspec": {
   "display_name": "Python 3 (ipykernel)",
   "language": "python",
   "name": "python3"
  },
  "language_info": {
   "codemirror_mode": {
    "name": "ipython",
    "version": 3
   },
   "file_extension": ".py",
   "mimetype": "text/x-python",
   "name": "python",
   "nbconvert_exporter": "python",
   "pygments_lexer": "ipython3",
   "version": "3.10.9"
  }
 },
 "nbformat": 4,
 "nbformat_minor": 5
}
